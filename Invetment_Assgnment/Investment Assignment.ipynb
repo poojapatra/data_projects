{
 "cells": [
  {
   "cell_type": "code",
   "execution_count": 285,
   "metadata": {
    "scrolled": true
   },
   "outputs": [
    {
     "name": "stdout",
     "output_type": "stream",
     "text": [
      "Total companies in companies file:  66368\n",
      "Total companies in rounds2 file:  90247\n",
      "Total count of elements after merge:  22044\n",
      "                    raised_amount_usd\n",
      "funding_round_type                   \n",
      "private_equity             38633724.0\n",
      "venture                    15177300.0\n",
      "seed                        3590040.0\n",
      "angel                       1826335.0\n",
      "   country_code funding_round_type  raised_amount_usd\n",
      "63          USA            venture       2.539460e+11\n",
      "12          CHN            venture       2.478925e+10\n",
      "24          GBR            venture       1.014902e+10\n",
      "30          IND            venture       9.824228e+09\n",
      "9           CAN            venture       5.182127e+09\n",
      "33          ISR            venture       4.736166e+09\n",
      "17          DEU            venture       4.185196e+09\n",
      "23          FRA            venture       3.854152e+09\n",
      "57          SWE            venture       2.120097e+09\n",
      "                               main_sector  total_investments\n",
      "6                                   Others       1.630030e+10\n",
      "7  Social, Finance, Analytics, Advertising       1.576892e+10\n",
      "1               Cleantech / Semiconductors       1.030019e+10\n",
      "5               News, Search and Messaging       9.879242e+09\n",
      "4                            Manufacturing       4.059832e+09\n",
      "3                                   Health       3.825312e+09\n",
      "2                            Entertainment       3.591535e+09\n",
      "0                      Automotive & Sports       7.861261e+08\n",
      "                               main_sector  total_investments_count\n",
      "6                                   Others                     1804\n",
      "7  Social, Finance, Analytics, Advertising                     1793\n",
      "5               News, Search and Messaging                     1104\n",
      "1               Cleantech / Semiconductors                     1071\n",
      "4                            Manufacturing                      436\n",
      "2                            Entertainment                      418\n",
      "3                                   Health                      404\n",
      "0                      Automotive & Sports                       89\n",
      "                               main_sector  total_investments  \\\n",
      "0                                   Others       1.630030e+10   \n",
      "1  Social, Finance, Analytics, Advertising       1.576892e+10   \n",
      "2               Cleantech / Semiconductors       1.030019e+10   \n",
      "3               News, Search and Messaging       9.879242e+09   \n",
      "4                            Manufacturing       4.059832e+09   \n",
      "5                                   Health       3.825312e+09   \n",
      "6                            Entertainment       3.591535e+09   \n",
      "7                      Automotive & Sports       7.861261e+08   \n",
      "\n",
      "   total_investments_count  \n",
      "0                     1804  \n",
      "1                     1793  \n",
      "2                     1071  \n",
      "3                     1104  \n",
      "4                      436  \n",
      "5                      404  \n",
      "6                      418  \n",
      "7                       89  \n",
      "                               main_sector  total_investments\n",
      "6                                   Others        591088395.0\n",
      "7  Social, Finance, Analytics, Advertising        581746319.0\n",
      "1               Cleantech / Semiconductors        432716926.0\n",
      "5               News, Search and Messaging        350226744.0\n",
      "2                            Entertainment        293145814.0\n",
      "0                      Automotive & Sports        118066299.0\n",
      "4                            Manufacturing        103591710.0\n",
      "3                                   Health         66652938.0\n",
      "                               main_sector  total_investments_count\n",
      "7  Social, Finance, Analytics, Advertising                       69\n",
      "6                                   Others                       65\n",
      "1               Cleantech / Semiconductors                       46\n",
      "5               News, Search and Messaging                       40\n",
      "2                            Entertainment                       34\n",
      "0                      Automotive & Sports                       11\n",
      "4                            Manufacturing                       10\n",
      "3                                   Health                        6\n",
      "                               main_sector  total_investments\n",
      "6                                   Others        677439507.0\n",
      "5               News, Search and Messaging        306278770.0\n",
      "7  Social, Finance, Analytics, Advertising        276843500.0\n",
      "2                            Entertainment        173000000.0\n",
      "0                      Automotive & Sports        110900000.0\n",
      "1               Cleantech / Semiconductors         91900000.0\n",
      "4                            Manufacturing         74500000.0\n",
      "3                                   Health         60100000.0\n",
      "                               main_sector  total_investments_count\n",
      "6                                   Others                       74\n",
      "5               News, Search and Messaging                       38\n",
      "7  Social, Finance, Analytics, Advertising                       29\n",
      "2                            Entertainment                       20\n",
      "0                      Automotive & Sports                       11\n",
      "1               Cleantech / Semiconductors                       10\n",
      "4                            Manufacturing                        8\n",
      "3                                   Health                        6\n"
     ]
    },
    {
     "data": {
      "text/html": [
       "<div>\n",
       "<style scoped>\n",
       "    .dataframe tbody tr th:only-of-type {\n",
       "        vertical-align: middle;\n",
       "    }\n",
       "\n",
       "    .dataframe tbody tr th {\n",
       "        vertical-align: top;\n",
       "    }\n",
       "\n",
       "    .dataframe thead th {\n",
       "        text-align: right;\n",
       "    }\n",
       "</style>\n",
       "<table border=\"1\" class=\"dataframe\">\n",
       "  <thead>\n",
       "    <tr style=\"text-align: right;\">\n",
       "      <th></th>\n",
       "      <th></th>\n",
       "      <th>raised_amount_usd</th>\n",
       "    </tr>\n",
       "    <tr>\n",
       "      <th>company_permalink</th>\n",
       "      <th>main_sector</th>\n",
       "      <th></th>\n",
       "    </tr>\n",
       "  </thead>\n",
       "  <tbody>\n",
       "    <tr>\n",
       "      <th>/organization/pinterest</th>\n",
       "      <th>News, Search and Messaging</th>\n",
       "      <td>1.315000e+09</td>\n",
       "    </tr>\n",
       "    <tr>\n",
       "      <th>/organization/spotify</th>\n",
       "      <th>News, Search and Messaging</th>\n",
       "      <td>1.063779e+09</td>\n",
       "    </tr>\n",
       "    <tr>\n",
       "      <th>/organization/dianping</th>\n",
       "      <th>News, Search and Messaging</th>\n",
       "      <td>1.041000e+09</td>\n",
       "    </tr>\n",
       "    <tr>\n",
       "      <th>/organization/lyft</th>\n",
       "      <th>News, Search and Messaging</th>\n",
       "      <td>1.011000e+09</td>\n",
       "    </tr>\n",
       "    <tr>\n",
       "      <th>/organization/metropcs-communications</th>\n",
       "      <th>News, Search and Messaging</th>\n",
       "      <td>7.390000e+08</td>\n",
       "    </tr>\n",
       "  </tbody>\n",
       "</table>\n",
       "</div>"
      ],
      "text/plain": [
       "                                                                  raised_amount_usd\n",
       "company_permalink                     main_sector                                  \n",
       "/organization/pinterest               News, Search and Messaging       1.315000e+09\n",
       "/organization/spotify                 News, Search and Messaging       1.063779e+09\n",
       "/organization/dianping                News, Search and Messaging       1.041000e+09\n",
       "/organization/lyft                    News, Search and Messaging       1.011000e+09\n",
       "/organization/metropcs-communications News, Search and Messaging       7.390000e+08"
      ]
     },
     "execution_count": 285,
     "metadata": {},
     "output_type": "execute_result"
    }
   ],
   "source": [
    "import numpy as np\n",
    "import pandas as pd\n",
    "import matplotlib.pyplot as plt\n",
    "import seaborn as sns\n",
    "\n",
    "#Reading the companies text file.\n",
    "companies =pd.read_csv('C:\\\\Users\\\\patrap\\\\Pictures\\\\upGrad\\\\companies.txt',sep=\"\\t\", encoding=\"ISO-8859-1\")\n",
    "unique_company = companies.permalink.nunique(dropna = True) \n",
    "print(\"Total companies in companies file: \",unique_company)\n",
    "#Converting to lower case for merging\n",
    "companies['permalink'] = companies['permalink'].str.lower()\n",
    "\n",
    "#Reading the rounds2 csv file.\n",
    "rounds2 = pd.read_csv(\"C:\\\\Users\\\\patrap\\\\Pictures\\\\upGrad\\\\rounds2.csv\", encoding=\"ISO-8859-1\")\n",
    "unique_round2 = rounds2.company_permalink.nunique(dropna = True)\n",
    "print(\"Total companies in rounds2 file: \",unique_round2)\n",
    "#Converting to lower case for merging\n",
    "rounds2['company_permalink'] = rounds2['company_permalink'].str.lower()\n",
    "\n",
    "#Merging both the companies and rounds2 data based on the unique value.\n",
    "master_frame = pd.merge(rounds2,companies, left_on='company_permalink', right_on='permalink',how ='left')\n",
    "master_frame = master_frame.dropna()\n",
    "count_row = master_frame.shape[0]\n",
    "print(\"Total count of elements after merge: \",count_row)\n",
    "\n",
    "# Calculating the most representative value of the investment amount based on funding type.\n",
    "master_frame_mean = master_frame.groupby(['funding_round_type']).mean().round().loc[['angel','venture','seed','private_equity']].sort_values(by='raised_amount_usd',ascending=False)\n",
    "master_frame_mean = master_frame_mean.dropna()\n",
    "print(master_frame_mean)\n",
    "\n",
    "#Filtering the dataframe based on the funding type whichc is in range of 5M to 15M USD.\n",
    "top9 = master_frame.loc[master_frame['funding_round_type']=='venture'].groupby(['country_code','funding_round_type'], as_index=False).sum().round().sort_values(by=\"raised_amount_usd\",ascending=False).head(9)\n",
    "print(top9)\n",
    "\n",
    "#Adding a new column primary_sector from the category_list column in the master frame.\n",
    "master_frame= master_frame.loc[master_frame['funding_round_type']=='venture']\n",
    "master_frame['primary_sector'] = master_frame['category_list'].str.split('|').str[0]\n",
    "master_frame.head(9)\n",
    "\n",
    "#Getting the sector dataframe from the mapping.csv based on the 8 main sectors.\n",
    "sector_mapping =pd.read_csv('C:\\\\Users\\\\patrap\\\\Pictures\\\\upGrad\\\\mapping.csv', encoding=\"ISO-8859-1\")\n",
    "sector_mapping['main_sector'] = pd.get_dummies(sector_mapping).idxmax(1)\n",
    "sector_mapping.drop(sector_mapping.iloc[:, 1:10], inplace = True, axis = 1)\n",
    "sector_mapping.dropna(subset = [\"category_list\"], inplace=True)\n",
    "sector_mapping.head(20)\n",
    "\n",
    "#Merging the sector dataframe with master frame.\n",
    "master_frame_sector = pd.merge(master_frame,sector_mapping, left_on='primary_sector', right_on='category_list',how ='left').drop(['category_list_y'], axis = 1)\n",
    "master_frame_sector.head(9)\n",
    "\n",
    "#D1 for the top1 engligh speaking country and having fund between 5M USD to 15M USD.\n",
    "D1= master_frame_sector.loc[master_frame_sector['country_code']=='USA']\n",
    "D1 = D1[(5000000 <= D1['raised_amount_usd']) & (D1['raised_amount_usd'] <= 15000000)]\n",
    "country_dataframe1 = D1.groupby(['main_sector'],as_index=False).sum().round(3).rename(columns = {\"raised_amount_usd\": \"total_investments\"}).sort_values(by='total_investments',ascending=False)\n",
    "print(country_dataframe1)\n",
    "count = D1.groupby(['main_sector']).size().reset_index(name='total_investments_count').sort_values(by='total_investments_count',ascending=False)\n",
    "print(count)\n",
    "\n",
    "investment = pd.merge(country_dataframe1, count, how= 'left')\n",
    "print(investment)\n",
    "D1 = pd.merge(D1,investment, how= 'left',on = 'main_sector' )\n",
    "D1.head()\n",
    "\n",
    "#D2 for the top2 engligh speaking country and having fund between 5M USD to 15M USD.\n",
    "D2= master_frame_sector.loc[master_frame_sector['country_code']=='GBR']\n",
    "D2 = D2[(5000000 <= D2['raised_amount_usd']) & (D2['raised_amount_usd'] <= 15000000)]\n",
    "country_dataframe2 = D2.groupby(['main_sector'],as_index=False).sum().round(3).rename(columns = {\"raised_amount_usd\": \"total_investments\"}).sort_values(by='total_investments',ascending=False)\n",
    "print(country_dataframe2)\n",
    "count = D2.groupby(['main_sector']).size().reset_index(name='total_investments_count').sort_values(by='total_investments_count',ascending=False)\n",
    "print(count)\n",
    "\n",
    "investment = pd.merge(country_dataframe2, count, how= 'left', on = 'main_sector')\n",
    "#print(investment)\n",
    "D2 = pd.merge(D1,investment, how= 'left',on = 'main_sector' )\n",
    "D2.head()\n",
    "\n",
    "#D3 for the top3 engligh speaking country and having fund between 5M USD to 15M USD.\n",
    "D3= master_frame_sector.loc[master_frame_sector['country_code']=='IND']\n",
    "D3 = D3[(5000000 <= D3['raised_amount_usd']) & (D3['raised_amount_usd'] <= 15000000)]\n",
    "country_dataframe3 = D3.groupby(['main_sector'],as_index=False).sum().round(3).rename(columns = {\"raised_amount_usd\": \"total_investments\"}).sort_values(by='total_investments',ascending=False)\n",
    "print(country_dataframe3)\n",
    "count = D3.groupby(['main_sector']).size().reset_index(name='total_investments_count').sort_values(by='total_investments_count',ascending=False)\n",
    "print(count)\n",
    "\n",
    "investment = pd.merge(country_dataframe3, count, how= 'left', on = 'main_sector')\n",
    "#print(investment)\n",
    "D3 = pd.merge(D1,investment, how= 'left',on = 'main_sector' )\n",
    "D3.head()\n",
    "\n",
    "#Getting the results for table 5.1 based on sectors.\n",
    "master_frame_sector_cmpny = master_frame_sector.loc[master_frame_sector['main_sector']== 'News, Search and Messaging'].groupby(['company_permalink','main_sector']).sum().sort_values(by='raised_amount_usd',ascending=False)\n",
    "master_frame_sector_cmpny.head()\n",
    "\n"
   ]
  },
  {
   "cell_type": "code",
   "execution_count": 299,
   "metadata": {},
   "outputs": [
    {
     "data": {
      "image/png": "[encoded data removed]",
      "text/plain": [
       "<Figure size 432x288 with 1 Axes>"
      ]
     },
     "metadata": {
      "needs_background": "light"
     },
     "output_type": "display_data"
    }
   ],
   "source": [
    "%matplotlib inline\n",
    "master_frame_mean['funding_round_type'] = master_frame_mean.index\n",
    "ax = sns.barplot(y='raised_amount_usd', x=\"funding_round_type\", data=master_frame_mean)\n"
   ]
  },
  {
   "cell_type": "code",
   "execution_count": 225,
   "metadata": {},
   "outputs": [
    {
     "data": {
      "text/plain": [
       "<matplotlib.axes._subplots.AxesSubplot at 0x2909f109ac8>"
      ]
     },
     "execution_count": 225,
     "metadata": {},
     "output_type": "execute_result"
    },
    {
     "data": {
      "image/png": "[encoded data removed]",
      "text/plain": [
       "<Figure size 432x288 with 1 Axes>"
      ]
     },
     "metadata": {
      "needs_background": "light"
     },
     "output_type": "display_data"
    }
   ],
   "source": [
    "top9[\"country_speaking_english\"] = top9[\"country_code\"].isin([\"USA\", \"GBR\",'IND'])\n",
    "\n",
    "sns.barplot(y='raised_amount_usd', x=\"country_code\", data=top9, hue=\"country_speaking_english\", dodge=False)\n"
   ]
  },
  {
   "cell_type": "code",
   "execution_count": 281,
   "metadata": {
    "scrolled": true
   },
   "outputs": [
    {
     "data": {
      "text/plain": [
       "<matplotlib.axes._subplots.AxesSubplot at 0x290abadb348>"
      ]
     },
     "execution_count": 281,
     "metadata": {},
     "output_type": "execute_result"
    },
    {
     "data": {
      "image/png": "[encoded data removed]",
      "text/plain": [
       "<Figure size 432x288 with 1 Axes>"
      ]
     },
     "metadata": {
      "needs_background": "light"
     },
     "output_type": "display_data"
    }
   ],
   "source": [
    "master_frame_country = master_frame_sector.loc[master_frame_sector['country_code'].isin(['USA','GBR','IND'])]\n",
    "master_frame_country = master_frame_country[(5000000 <= master_frame_country['raised_amount_usd']) & (master_frame_country['raised_amount_usd'] <= 15000000)]\n",
    "country_dataframe1 = master_frame_country.groupby(['country_code','main_sector'],as_index=False).sum().round(3).rename(columns = {\"raised_amount_usd\": \"total_investments\"}).sort_values(by='total_investments',ascending=False)\n",
    "country_dataframe2 = country_dataframe1.loc[~((country_dataframe1['main_sector']=='News, Search and Messaging') & ~ ( master_frame_sector['country_code'].isin(['USA','GBR'])))]\n",
    "country_dataframe3 = country_dataframe2.loc[~((country_dataframe1['main_sector']=='Cleantech / Semiconductors') & ( country_dataframe2['country_code'].isin(['IND'])))]\n",
    "country_dataframe4 = country_dataframe3.loc[~(country_dataframe1['main_sector'].isin(['Health','Manufacturing','Entertainment','Automotive & Sports']))]\n",
    "sns.barplot(y='total_investments', x=\"country_code\", data=country_dataframe4, hue=\"main_sector\")\n",
    " "
   ]
  },
  {
   "cell_type": "code",
   "execution_count": 309,
   "metadata": {},
   "outputs": [
    {
     "data": {
      "text/plain": [
       "([<matplotlib.patches.Wedge at 0x291abbb53c8>,\n",
       "  <matplotlib.patches.Wedge at 0x291abbc0ac8>,\n",
       "  <matplotlib.patches.Wedge at 0x291abbcf948>,\n",
       "  <matplotlib.patches.Wedge at 0x291abbcc808>],\n",
       " [Text(-0.5064422856818613, 0.976481546816596, 'private_equity'),\n",
       "  Text(0.2089844326666916, -1.0799655119044225, 'venture'),\n",
       "  Text(1.0198189139787868, -0.412273431949147, 'seed'),\n",
       "  Text(1.0948424775649073, -0.10639525045572205, 'angel')],\n",
       " [Text(-0.2762412467355607, 0.5326262982635978, '65.2%'),\n",
       "  Text(0.1139915087272863, -0.5890720974024122, '25.6%'),\n",
       "  Text(0.5562648621702473, -0.22487641742680745, '6.1%'),\n",
       "  Text(0.5971868059444948, -0.058033772975848386, '3.1%')])"
      ]
     },
     "execution_count": 309,
     "metadata": {},
     "output_type": "execute_result"
    },
    {
     "data": {
      "image/png": "[encoded data removed]",
      "text/plain": [
       "<Figure size 432x288 with 1 Axes>"
      ]
     },
     "metadata": {},
     "output_type": "display_data"
    }
   ],
   "source": [
    "plt.pie(master_frame_mean['raised_amount_usd'], labels=master_frame_mean['funding_round_type'] ,autopct='%1.1f%%')\n"
   ]
  },
  {
   "cell_type": "code",
   "execution_count": null,
   "metadata": {},
   "outputs": [],
   "source": []
  }
 ],
 "metadata": {
  "kernelspec": {
   "display_name": "Python 3",
   "language": "python",
   "name": "python3"
  },
  "language_info": {
   "codemirror_mode": {
    "name": "ipython",
    "version": 3
   },
   "file_extension": ".py",
   "mimetype": "text/x-python",
   "name": "python",
   "nbconvert_exporter": "python",
   "pygments_lexer": "ipython3",
   "version": "3.7.6"
  }
 },
 "nbformat": 4,
 "nbformat_minor": 4
}
